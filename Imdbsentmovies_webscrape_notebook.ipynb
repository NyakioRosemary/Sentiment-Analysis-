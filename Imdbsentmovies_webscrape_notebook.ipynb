{
 "cells": [
  {
   "cell_type": "code",
   "execution_count": 1,
   "metadata": {},
   "outputs": [],
   "source": [
    "import pandas as pd\n",
    "import nltk\n",
    "#nltk.download('punkt')\n",
    "#nltk.download('stopwords')\n",
    "#nltk.download('wordnet')\n",
    "from nltk.stem import WordNetLemmatizer\n",
    "from sklearn.preprocessing import LabelEncoder\n",
    "from nltk.tokenize import word_tokenize, sent_tokenize\n",
    "from nltk.corpus import stopwords\n",
    "from sklearn.feature_extraction.text import CountVectorizer, TfidfVectorizer\n",
    "from nltk import FreqDist\n",
    "\n",
    "import re\n",
    "import string\n",
    "\n",
    "import matplotlib.pyplot as plt"
   ]
  },
  {
   "cell_type": "code",
   "execution_count": 2,
   "metadata": {
    "scrolled": true
   },
   "outputs": [
    {
     "data": {
      "text/html": [
       "<div>\n",
       "<style scoped>\n",
       "    .dataframe tbody tr th:only-of-type {\n",
       "        vertical-align: middle;\n",
       "    }\n",
       "\n",
       "    .dataframe tbody tr th {\n",
       "        vertical-align: top;\n",
       "    }\n",
       "\n",
       "    .dataframe thead th {\n",
       "        text-align: right;\n",
       "    }\n",
       "</style>\n",
       "<table border=\"1\" class=\"dataframe\">\n",
       "  <thead>\n",
       "    <tr style=\"text-align: right;\">\n",
       "      <th></th>\n",
       "      <th>rates_star</th>\n",
       "      <th>titles</th>\n",
       "      <th>date_comment</th>\n",
       "      <th>who_found_comment_helpful</th>\n",
       "      <th>comments</th>\n",
       "      <th>Movie_title</th>\n",
       "      <th>Genres</th>\n",
       "    </tr>\n",
       "  </thead>\n",
       "  <tbody>\n",
       "    <tr>\n",
       "      <th>0</th>\n",
       "      <td>6/10</td>\n",
       "      <td>Starts very strong and then fades in the stretch</td>\n",
       "      <td>11 October 2023</td>\n",
       "      <td>0 out of 0 found this helpful. Was this review...</td>\n",
       "      <td>This review is based on Season 1, and I haven'...</td>\n",
       "      <td>Last of us Movie</td>\n",
       "      <td>Action, Adventure, Drama</td>\n",
       "    </tr>\n",
       "    <tr>\n",
       "      <th>1</th>\n",
       "      <td>7/10</td>\n",
       "      <td>Well made. Skip Episode 3</td>\n",
       "      <td>11 October 2023</td>\n",
       "      <td>1 out of 2 found this helpful. Was this review...</td>\n",
       "      <td>It has been a few years since I played the ori...</td>\n",
       "      <td>Last of us Movie</td>\n",
       "      <td>Action, Adventure, Drama</td>\n",
       "    </tr>\n",
       "    <tr>\n",
       "      <th>2</th>\n",
       "      <td>5/10</td>\n",
       "      <td>Surely overrated</td>\n",
       "      <td>6 October 2023</td>\n",
       "      <td>2 out of 4 found this helpful. Was this review...</td>\n",
       "      <td>Review of Season One:\\n\\nScreen adaptations of...</td>\n",
       "      <td>Last of us Movie</td>\n",
       "      <td>Action, Adventure, Drama</td>\n",
       "    </tr>\n",
       "    <tr>\n",
       "      <th>3</th>\n",
       "      <td>10/10</td>\n",
       "      <td>Would highly recommend this show.</td>\n",
       "      <td>25 September 2023</td>\n",
       "      <td>1 out of 1 found this helpful. Was this review...</td>\n",
       "      <td>I applaud hbo for making video game to TV show...</td>\n",
       "      <td>Last of us Movie</td>\n",
       "      <td>Action, Adventure, Drama</td>\n",
       "    </tr>\n",
       "    <tr>\n",
       "      <th>4</th>\n",
       "      <td>10/10</td>\n",
       "      <td>Worth watching</td>\n",
       "      <td>23 September 2023</td>\n",
       "      <td>1 out of 1 found this helpful. Was this review...</td>\n",
       "      <td>It's much better than I expected, the series h...</td>\n",
       "      <td>Last of us Movie</td>\n",
       "      <td>Action, Adventure, Drama</td>\n",
       "    </tr>\n",
       "  </tbody>\n",
       "</table>\n",
       "</div>"
      ],
      "text/plain": [
       "  rates_star                                            titles  \\\n",
       "0       6/10  Starts very strong and then fades in the stretch   \n",
       "1       7/10                         Well made. Skip Episode 3   \n",
       "2       5/10                                  Surely overrated   \n",
       "3      10/10                 Would highly recommend this show.   \n",
       "4      10/10                                    Worth watching   \n",
       "\n",
       "        date_comment                          who_found_comment_helpful  \\\n",
       "0    11 October 2023  0 out of 0 found this helpful. Was this review...   \n",
       "1    11 October 2023  1 out of 2 found this helpful. Was this review...   \n",
       "2     6 October 2023  2 out of 4 found this helpful. Was this review...   \n",
       "3  25 September 2023  1 out of 1 found this helpful. Was this review...   \n",
       "4  23 September 2023  1 out of 1 found this helpful. Was this review...   \n",
       "\n",
       "                                            comments       Movie_title  \\\n",
       "0  This review is based on Season 1, and I haven'...  Last of us Movie   \n",
       "1  It has been a few years since I played the ori...  Last of us Movie   \n",
       "2  Review of Season One:\\n\\nScreen adaptations of...  Last of us Movie   \n",
       "3  I applaud hbo for making video game to TV show...  Last of us Movie   \n",
       "4  It's much better than I expected, the series h...  Last of us Movie   \n",
       "\n",
       "                     Genres  \n",
       "0  Action, Adventure, Drama  \n",
       "1  Action, Adventure, Drama  \n",
       "2  Action, Adventure, Drama  \n",
       "3  Action, Adventure, Drama  \n",
       "4  Action, Adventure, Drama  "
      ]
     },
     "execution_count": 2,
     "metadata": {},
     "output_type": "execute_result"
    }
   ],
   "source": [
    "df = pd.read_csv(\"imd_m_web_charm.csv\", delimiter = \";\")\n",
    "df.head()\n",
    "#1596 last of us \n",
    "# 1596+wheel = 2374\n",
    "#=8127"
   ]
  },
  {
   "cell_type": "markdown",
   "metadata": {},
   "source": [
    "### Data Cleaning \n",
    ">Created a movie title column Filled Nans with the specific movie name \n",
    "\n",
    ">created a genre column and added the movies genres \n",
    "\n",
    ">filled nans in comment column as spoilers based on the fact that in the website they are indicated as soilers"
   ]
  },
  {
   "cell_type": "code",
   "execution_count": 3,
   "metadata": {},
   "outputs": [],
   "source": [
    "#rename column \n",
    "#df.rename(columns={\"Unnamed: 6\" : \"Movie_title\"}, inplace = True)\n",
    "# fillna with movie name \n",
    "#df['Movie_title'] = df['Movie_title'].fillna('Last of us Movie')\n",
    "#df['Movie_title'] = df['Movie_title'].fillna('The wheel of Time')\n",
    "#df['Movie_title'] = df['Movie_title'].fillna('Stranger Things')\n",
    "#df['Movie_title'] = df['Movie_title'].fillna('The Witcher')\n",
    "#df['Movie_title'] = df['Movie_title'].fillna('Game of Thrones')\n",
    "#df['Movie_title'] = df['Movie_title'].fillna('Picky Blinders')\n",
    "#df['Movie_title'] = df['Movie_title'].fillna('John Wick chapter:4')\n",
    "#df['Movie_title'] = df['Movie_title'].fillna('The Wolf of Wall Street')\n",
    "#df['Movie_title'] = df['Movie_title'].fillna('One Piece')\n",
    "#df['Movie_title'] = df['Movie_title'].fillna('Special Ops:Lioness')\n",
    "#df['Movie_title'] = df['Movie_title'].fillna('The Lord of the Rings: The Return of the King')"
   ]
  },
  {
   "cell_type": "code",
   "execution_count": 4,
   "metadata": {},
   "outputs": [],
   "source": [
    "#genre column \n",
    "#df.loc[df['Movie_title'] == 'The Lord of the Rings: The Return of the King', 'Genres'] = 'Action, Adventure, Drama'\n",
    "#df.loc[df['Movie_title'] == 'Special Ops:Lioness', 'Genres'] = 'Action, Drama, Thriller'\n",
    "#df.loc[df['Movie_title'] == 'One Piece', 'Genres'] = 'Action, Adventure, Comedy'\n",
    "#df.loc[df['Movie_title'] == 'The Wolf of Wall Street', 'Genres'] = 'Biography, Comedy, Crime'\n",
    "#df.loc[df['Movie_title'] == 'John Wick chapter:4', 'Genres'] = 'Action, Crime, Thriller'\n",
    "#df.loc[df['Movie_title'] == 'Picky Blinders', 'Genres'] = 'Crime, Drama'\n",
    "#df.loc[df['Movie_title'] == 'Game of Thrones', 'Genres'] = 'Action, Adventure, Drama'\n",
    "#df.loc[df['Movie_title'] == 'The Witcher', 'Genres'] = 'Action, Adventure, Drama'\n",
    "#df.loc[df['Movie_title'] == 'Stranger Things', 'Genres'] = 'Drama, Fantasy, Horror'\n",
    "#df.loc[df['Movie_title'] == 'The wheel of Time', 'Genres'] = 'Action, Adventure, Drama'\n",
    "#df.loc[df['Movie_title'] == 'Last of us Movie', 'Genres'] = 'Action, Adventure, Drama'\n",
    "#df.drop('user_name', axis=1,inplace = True)"
   ]
  },
  {
   "cell_type": "code",
   "execution_count": 5,
   "metadata": {},
   "outputs": [],
   "source": [
    "#clean empty column \n",
    "#we will fill with spoiler because the heading is already giving hints \n",
    "#df['comments'] = df['comments'].fillna('Spoilers ')"
   ]
  },
  {
   "cell_type": "code",
   "execution_count": 6,
   "metadata": {},
   "outputs": [],
   "source": [
    "# save Clean Dataframe \n",
    "#df.to_csv(\"imd_m_web_charm.csv\", index=False, sep=\";\")\n"
   ]
  },
  {
   "cell_type": "code",
   "execution_count": 7,
   "metadata": {
    "scrolled": true
   },
   "outputs": [
    {
     "name": "stdout",
     "output_type": "stream",
     "text": [
      "<class 'pandas.core.frame.DataFrame'>\n",
      "RangeIndex: 26836 entries, 0 to 26835\n",
      "Data columns (total 7 columns):\n",
      " #   Column                     Non-Null Count  Dtype \n",
      "---  ------                     --------------  ----- \n",
      " 0   rates_star                 26836 non-null  object\n",
      " 1   titles                     26836 non-null  object\n",
      " 2   date_comment               26836 non-null  object\n",
      " 3   who_found_comment_helpful  26836 non-null  object\n",
      " 4   comments                   26836 non-null  object\n",
      " 5   Movie_title                26836 non-null  object\n",
      " 6   Genres                     26836 non-null  object\n",
      "dtypes: object(7)\n",
      "memory usage: 1.4+ MB\n"
     ]
    }
   ],
   "source": [
    "df.info()"
   ]
  },
  {
   "cell_type": "markdown",
   "metadata": {},
   "source": [
    "#The comments are the core of your analysis. Perform sentiment analysis, topic modeling, and content summarization based on these reviews."
   ]
  },
  {
   "cell_type": "markdown",
   "metadata": {},
   "source": [
    "### Text Preprocessing "
   ]
  },
  {
   "cell_type": "code",
   "execution_count": null,
   "metadata": {},
   "outputs": [],
   "source": [
    "# split the dataset \n"
   ]
  },
  {
   "cell_type": "code",
   "execution_count": 8,
   "metadata": {},
   "outputs": [],
   "source": [
    "#lower the comments cases \n",
    "df['comments'] = df['comments'].str.lower()"
   ]
  },
  {
   "cell_type": "code",
   "execution_count": 9,
   "metadata": {},
   "outputs": [
    {
     "data": {
      "text/plain": [
       "\"review of season one:\\n\\nscreen adaptations of video games are always hit and miss, but when i heard all the rave reviews about this one i started believing the hype. i shouldn't have done. on watching the last of us i felt like i was experiencing yet another run-of-the-mill, generic, hackneyed post-apocalyptic show just like the walking dead, in which all of the interesting apocalypse stuff is hurried over in the first episode and everything gets increasingly cliched from there. season one has only nine episodes and yet two are dull bottle fillers, while the leads are unlikeable, particularly ramsey's bratty character. when the action hits it's pretty good, but the rest just didn't work too well for me.\""
      ]
     },
     "execution_count": 9,
     "metadata": {},
     "output_type": "execute_result"
    }
   ],
   "source": [
    "#confirm \n",
    "df['comments'][2]"
   ]
  },
  {
   "cell_type": "code",
   "execution_count": 10,
   "metadata": {},
   "outputs": [],
   "source": [
    "# removing the html tags\n",
    "#remove html tags \n",
    "def rem_tags(com_nt):\n",
    "    pattern = re.compile('<.*?>')\n",
    "    return pattern.sub(r'', com_nt)\n",
    "\n",
    "df['comments'] = df['comments'].apply(rem_tags)"
   ]
  },
  {
   "cell_type": "code",
   "execution_count": 11,
   "metadata": {},
   "outputs": [],
   "source": [
    "#remove newline tags \\n\n",
    "def remove_newline(sym_l):\n",
    "    let_sym = re.compile(r'\\n')\n",
    "    clean_text = let_sym.sub(r'',sym_l)\n",
    "    return clean_text\n",
    "df['comments'] = df['comments'].apply(remove_newline)"
   ]
  },
  {
   "cell_type": "code",
   "execution_count": 12,
   "metadata": {},
   "outputs": [],
   "source": [
    "#remove Punctuations example\", @,!,. etc\"\n",
    "# puctuations !\"#$%&'()*+,-./:;<=>?@[\\]^_`{|}~\n",
    "# Define a translation table to remove punctuation\n",
    "translator = str.maketrans('', '', string.punctuation)\n",
    "\n",
    "# Remove punctuation from the 'comments' column\n",
    "df['comments'] = df['comments'].apply(lambda x: x.translate(translator))\n"
   ]
  },
  {
   "cell_type": "code",
   "execution_count": 13,
   "metadata": {},
   "outputs": [
    {
     "data": {
      "text/plain": [
       "'i applaud hbo for making video game to tv show adaptation the game itself was perfect but hbo made a series that can actually hold its own berricks it was really something different that actually made a original story that explore areas where the game never did the direction of the film actually differs from the game but i wont spoil the show the actors were phenomenal but im looking forward to season 2 and what the writers can do that differs from the video game even so this is a show that rather you have played the video game or not the story line that amyone can easily adapt too this is a series that is must watch and highly enjoyable'"
      ]
     },
     "execution_count": 13,
     "metadata": {},
     "output_type": "execute_result"
    }
   ],
   "source": [
    "df['comments'][3]"
   ]
  },
  {
   "cell_type": "code",
   "execution_count": 14,
   "metadata": {
    "scrolled": true
   },
   "outputs": [],
   "source": [
    "#Tokenize \n",
    "def word_toke(d_f, text):\n",
    "    d_f[text] = d_f[text].apply(lambda x: word_tokenize(x))\n",
    "    return d_f\n",
    "df = word_toke(df, 'comments')"
   ]
  },
  {
   "cell_type": "code",
   "execution_count": 15,
   "metadata": {},
   "outputs": [
    {
     "name": "stdout",
     "output_type": "stream",
     "text": [
      "This are the most commont words:  [('the', 193579), ('and', 95251), ('of', 84241), ('to', 72818), ('a', 72367), ('is', 60866), ('i', 54755), ('it', 49356), ('in', 42800), ('this', 40075)]\n"
     ]
    },
    {
     "data": {
      "image/png": "[encoded data removed]",
      "text/plain": [
       "<Figure size 432x288 with 1 Axes>"
      ]
     },
     "metadata": {
      "needs_background": "light"
     },
     "output_type": "display_data"
    }
   ],
   "source": [
    "#frequent word \n",
    "fdist = FreqDist()\n",
    "#count \n",
    "for word_tk in df['comments']:\n",
    "    for word in word_tk:\n",
    "        fdist[word.lower()] +=1\n",
    "#fist 10 \n",
    "print('This are the most commont words: ',fdist.most_common(10))\n",
    "#plot \n",
    "fdist.plot(20, title= \"Most frequent words\")\n",
    "plt.show()"
   ]
  },
  {
   "cell_type": "code",
   "execution_count": 16,
   "metadata": {},
   "outputs": [],
   "source": [
    "# Observation we need to get rid of this Stopwords like the which is leading with highest count "
   ]
  },
  {
   "cell_type": "code",
   "execution_count": 17,
   "metadata": {},
   "outputs": [],
   "source": [
    "#remove stopwords \n",
    "stop_words = set(stopwords.words(\"english\"))\n",
    "\n",
    "def remove_stopwords(text):\n",
    "    new_text = [word for word in text if word not in stop_words]\n",
    "    return \" \".join(new_text)\n",
    "\n",
    "df['comments'] = df['comments'].apply(remove_stopwords)"
   ]
  },
  {
   "cell_type": "code",
   "execution_count": 23,
   "metadata": {},
   "outputs": [
    {
     "name": "stdout",
     "output_type": "stream",
     "text": [
      "This are the most commont words:  [(' ', 1605477), ('e', 1270924), ('i', 739212), ('t', 731215), ('s', 721243), ('a', 702906), ('o', 674590), ('n', 667734), ('r', 624526), ('l', 532277)]\n"
     ]
    },
    {
     "data": {
      "image/png": "[encoded data removed]",
      "text/plain": [
       "<Figure size 432x288 with 1 Axes>"
      ]
     },
     "metadata": {
      "needs_background": "light"
     },
     "output_type": "display_data"
    }
   ],
   "source": [
    "#frequent word \n",
    "fdist = FreqDist()\n",
    "#count \n",
    "for word_tk in df['comments']:\n",
    "    for word in word_tk:\n",
    "        fdist[word.lower()] +=1\n",
    "#fist 10 \n",
    "print('This are the most commont words: ',fdist.most_common(10))\n",
    "#plot \n",
    "fdist.plot(20, title= \"Most frequent words\")\n",
    "plt.show()"
   ]
  },
  {
   "cell_type": "code",
   "execution_count": 36,
   "metadata": {},
   "outputs": [
    {
     "name": "stdout",
     "output_type": "stream",
     "text": [
      "This are the most commont words:  [(' ', 1605477), ('e', 1270924), ('i', 739212), ('t', 731215), ('s', 721243), ('a', 702906), ('o', 674590), ('n', 667734), ('r', 624526), ('l', 532277), ('c', 367419), ('d', 355777), ('m', 293026), ('g', 290942), ('h', 276694), ('p', 238019), ('u', 231523), ('y', 199179), ('w', 171729), ('f', 161162), ('v', 148318), ('b', 132275), ('k', 111065), ('x', 28066), ('j', 21404), ('1', 12658), ('0', 12372), ('z', 11454), ('q', 9576), ('2', 7032), ('3', 4790), ('8', 3667), ('5', 3085), ('4', 2916), ('9', 2587), ('7', 2150), ('6', 1818), ('é', 265), ('–', 229), ('´', 124), ('—', 105), ('😍', 92), ('å', 57), ('\\x96', 57), ('ñ', 54), ('👍', 48), ('🔥', 47), ('❤', 33), ('👏', 31), ('🏻', 29), ('😂', 29), ('👌', 28), ('😊', 23), ('á', 21), ('¨', 21), ('😭', 18), ('½', 17), ('⭐', 16), ('\\x91', 16), ('🙏', 15), ('ó', 14), ('😉', 14), ('í', 14), ('\\x97', 14), ('ö', 13), ('💯', 13), ('💔', 13), ('😅', 12), ('😁', 12), ('🌟', 12), ('ü', 12), ('🏾', 10), ('à', 9), ('ä', 9), ('🙌', 9), ('🏼', 8), ('«', 8), ('»', 8), ('ß', 8), ('🤦', 7), ('ï', 7), ('ë', 7), ('è', 7), ('✨', 7), ('👎', 7), ('🖤', 7), ('💥', 7), ('🍿', 7), ('û', 7), ('🤣', 6), ('😄', 6), ('💩', 6), ('😢', 6), ('¡', 6), ('😃', 5), ('💪', 5), ('🤘', 5), ('😔', 5), ('💙', 5), ('£', 5), ('ú', 5), ('\\x84', 5), ('😎', 4), ('✌', 4), ('😕', 4), ('😘', 4), ('🙃', 4), ('î', 4), ('̇', 4), ('ç', 4), ('·', 4), ('♠', 4), ('с', 4), ('т', 4), ('🤔', 3), ('😀', 3), ('🇳', 3), ('🙄', 3), ('😞', 3), ('🇵', 3), ('🎥', 3), ('💎', 3), ('😆', 3), ('😱', 3), ('☹', 3), ('💕', 3), ('😶', 3), ('😡', 3), ('👑', 3), ('ê', 3), ('о', 3), ('р', 3), ('н', 3), ('😲', 3), ('õ', 3), ('â', 2), ('🎬', 2), ('¿', 2), ('👀', 2), ('😇', 2), ('🎵', 2), ('🇮', 2), ('\\u200d', 2), ('♀', 2), ('️', 2), ('¯', 2), ('🤞', 2), ('😬', 2), ('🤤', 2), ('😣', 2), ('🇱', 2), ('😈', 2), ('×', 2), ('♥', 2), ('🤓', 2), ('💞', 2), ('🐺', 2), ('ø', 2), ('🤡', 2), ('💗', 2), ('😏', 2), ('ć', 2), ('🔫', 2), ('°', 2), ('\\uf04a', 2), ('ô', 2), ('✅', 2), ('æ', 2), ('ã', 2), ('º', 2), ('ª', 2), ('😳', 1), ('😒', 1), ('😜', 1), ('💤', 1), ('⚡', 1), ('🎭', 1), ('💓', 1), ('🎨', 1), ('🔚', 1), ('🤷', 1), ('😴', 1), ('🎉', 1), ('😑', 1), ('🤢', 1), ('😛', 1), ('™', 1), ('🎶', 1), ('😟', 1), ('😵', 1), ('🚨', 1), ('🏽', 1), ('🖐', 1), ('👉', 1), ('🐲', 1), ('🇺', 1), ('🇲', 1), ('🙂', 1), ('💝', 1), ('🔞', 1), ('💖', 1), ('🤝', 1), ('😠', 1), ('😪', 1), ('🙁', 1), ('💜', 1), ('😚', 1), ('😥', 1), ('❄', 1), ('☝', 1), ('😌', 1), ('🐵', 1), ('😝', 1), ('🐉', 1), ('§', 1), ('🙈', 1), ('þ', 1), ('\\x9a', 1), ('🇬', 1), ('🇧', 1), ('🚬', 1), ('💰', 1), ('\\x08', 1), ('🌎', 1), ('🙉', 1), ('®', 1), ('\\ufeff', 1), ('е', 1), ('ь', 1), ('и', 1), ('у', 1), ('в', 1), ('я', 1), ('а', 1), ('\\x99', 1), ('ё', 1), ('м', 1), ('ō', 1), ('🍃', 1), ('🌊', 1), ('⚓', 1), ('⛵', 1), ('🖖', 1), ('💌', 1), ('🌏', 1), ('💋', 1), ('ı', 1), ('¾', 1)]\n"
     ]
    }
   ],
   "source": [
    "print('This are the most commont words: ',fdist.most_common())\n"
   ]
  },
  {
   "cell_type": "code",
   "execution_count": null,
   "metadata": {},
   "outputs": [],
   "source": []
  }
 ],
 "metadata": {
  "kernelspec": {
   "display_name": "Python 3",
   "language": "python",
   "name": "python3"
  },
  "language_info": {
   "codemirror_mode": {
    "name": "ipython",
    "version": 3
   },
   "file_extension": ".py",
   "mimetype": "text/x-python",
   "name": "python",
   "nbconvert_exporter": "python",
   "pygments_lexer": "ipython3",
   "version": "3.8.5"
  }
 },
 "nbformat": 4,
 "nbformat_minor": 4
}
