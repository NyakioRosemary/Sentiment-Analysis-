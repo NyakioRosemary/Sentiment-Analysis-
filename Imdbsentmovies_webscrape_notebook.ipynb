{
 "cells": [
  {
   "cell_type": "code",
   "execution_count": 1,
   "metadata": {},
   "outputs": [],
   "source": [
    "import pandas as pd\n",
    "import nltk\n",
    "#nltk.download('punkt')\n",
    "#nltk.download('stopwords')\n",
    "#nltk.download('wordnet')\n",
    "from nltk.stem import WordNetLemmatizer\n",
    "from sklearn.preprocessing import LabelEncoder\n",
    "from nltk.tokenize import word_tokenize, sent_tokenize\n",
    "from nltk.corpus import stopwords\n",
    "from sklearn.feature_extraction.text import CountVectorizer, TfidfVectorizer\n",
    "from nltk import FreqDist\n",
    "\n",
    "import emoji\n",
    "import regex\n",
    "\n",
    "import re\n",
    "import string\n",
    "\n",
    "import matplotlib.pyplot as plt"
   ]
  },
  {
   "cell_type": "code",
   "execution_count": 2,
   "metadata": {
    "scrolled": true
   },
   "outputs": [
    {
     "data": {
      "text/html": [
       "<div>\n",
       "<style scoped>\n",
       "    .dataframe tbody tr th:only-of-type {\n",
       "        vertical-align: middle;\n",
       "    }\n",
       "\n",
       "    .dataframe tbody tr th {\n",
       "        vertical-align: top;\n",
       "    }\n",
       "\n",
       "    .dataframe thead th {\n",
       "        text-align: right;\n",
       "    }\n",
       "</style>\n",
       "<table border=\"1\" class=\"dataframe\">\n",
       "  <thead>\n",
       "    <tr style=\"text-align: right;\">\n",
       "      <th></th>\n",
       "      <th>rates_star</th>\n",
       "      <th>titles</th>\n",
       "      <th>date_comment</th>\n",
       "      <th>who_found_comment_helpful</th>\n",
       "      <th>comments</th>\n",
       "      <th>Movie_title</th>\n",
       "      <th>Genres</th>\n",
       "    </tr>\n",
       "  </thead>\n",
       "  <tbody>\n",
       "    <tr>\n",
       "      <th>0</th>\n",
       "      <td>6/10</td>\n",
       "      <td>Starts very strong and then fades in the stretch</td>\n",
       "      <td>11 October 2023</td>\n",
       "      <td>0 out of 0 found this helpful. Was this review...</td>\n",
       "      <td>This review is based on Season 1, and I haven'...</td>\n",
       "      <td>Last of us Movie</td>\n",
       "      <td>Action, Adventure, Drama</td>\n",
       "    </tr>\n",
       "    <tr>\n",
       "      <th>1</th>\n",
       "      <td>7/10</td>\n",
       "      <td>Well made. Skip Episode 3</td>\n",
       "      <td>11 October 2023</td>\n",
       "      <td>1 out of 2 found this helpful. Was this review...</td>\n",
       "      <td>It has been a few years since I played the ori...</td>\n",
       "      <td>Last of us Movie</td>\n",
       "      <td>Action, Adventure, Drama</td>\n",
       "    </tr>\n",
       "    <tr>\n",
       "      <th>2</th>\n",
       "      <td>5/10</td>\n",
       "      <td>Surely overrated</td>\n",
       "      <td>6 October 2023</td>\n",
       "      <td>2 out of 4 found this helpful. Was this review...</td>\n",
       "      <td>Review of Season One:\\n\\nScreen adaptations of...</td>\n",
       "      <td>Last of us Movie</td>\n",
       "      <td>Action, Adventure, Drama</td>\n",
       "    </tr>\n",
       "    <tr>\n",
       "      <th>3</th>\n",
       "      <td>10/10</td>\n",
       "      <td>Would highly recommend this show.</td>\n",
       "      <td>25 September 2023</td>\n",
       "      <td>1 out of 1 found this helpful. Was this review...</td>\n",
       "      <td>I applaud hbo for making video game to TV show...</td>\n",
       "      <td>Last of us Movie</td>\n",
       "      <td>Action, Adventure, Drama</td>\n",
       "    </tr>\n",
       "    <tr>\n",
       "      <th>4</th>\n",
       "      <td>10/10</td>\n",
       "      <td>Worth watching</td>\n",
       "      <td>23 September 2023</td>\n",
       "      <td>1 out of 1 found this helpful. Was this review...</td>\n",
       "      <td>It's much better than I expected, the series h...</td>\n",
       "      <td>Last of us Movie</td>\n",
       "      <td>Action, Adventure, Drama</td>\n",
       "    </tr>\n",
       "  </tbody>\n",
       "</table>\n",
       "</div>"
      ],
      "text/plain": [
       "  rates_star                                            titles  \\\n",
       "0       6/10  Starts very strong and then fades in the stretch   \n",
       "1       7/10                         Well made. Skip Episode 3   \n",
       "2       5/10                                  Surely overrated   \n",
       "3      10/10                 Would highly recommend this show.   \n",
       "4      10/10                                    Worth watching   \n",
       "\n",
       "        date_comment                          who_found_comment_helpful  \\\n",
       "0    11 October 2023  0 out of 0 found this helpful. Was this review...   \n",
       "1    11 October 2023  1 out of 2 found this helpful. Was this review...   \n",
       "2     6 October 2023  2 out of 4 found this helpful. Was this review...   \n",
       "3  25 September 2023  1 out of 1 found this helpful. Was this review...   \n",
       "4  23 September 2023  1 out of 1 found this helpful. Was this review...   \n",
       "\n",
       "                                            comments       Movie_title  \\\n",
       "0  This review is based on Season 1, and I haven'...  Last of us Movie   \n",
       "1  It has been a few years since I played the ori...  Last of us Movie   \n",
       "2  Review of Season One:\\n\\nScreen adaptations of...  Last of us Movie   \n",
       "3  I applaud hbo for making video game to TV show...  Last of us Movie   \n",
       "4  It's much better than I expected, the series h...  Last of us Movie   \n",
       "\n",
       "                     Genres  \n",
       "0  Action, Adventure, Drama  \n",
       "1  Action, Adventure, Drama  \n",
       "2  Action, Adventure, Drama  \n",
       "3  Action, Adventure, Drama  \n",
       "4  Action, Adventure, Drama  "
      ]
     },
     "execution_count": 2,
     "metadata": {},
     "output_type": "execute_result"
    }
   ],
   "source": [
    "df = pd.read_csv(\"imd_m_web_charm.csv\", delimiter = \";\")\n",
    "df.head()\n",
    "#1596 last of us \n",
    "# 1596+wheel = 2374\n",
    "#=8127"
   ]
  },
  {
   "cell_type": "markdown",
   "metadata": {},
   "source": [
    "### Data Cleaning \n",
    ">Created a movie title column Filled Nans with the specific movie name \n",
    "\n",
    ">created a genre column and added the movies genres \n",
    "\n",
    ">filled nans in comment column as spoilers based on the fact that in the website they are indicated as soilers"
   ]
  },
  {
   "cell_type": "code",
   "execution_count": null,
   "metadata": {},
   "outputs": [],
   "source": [
    "#rename column \n",
    "#df.rename(columns={\"Unnamed: 6\" : \"Movie_title\"}, inplace = True)\n",
    "# fillna with movie name \n",
    "#df['Movie_title'] = df['Movie_title'].fillna('Last of us Movie')\n",
    "#df['Movie_title'] = df['Movie_title'].fillna('The wheel of Time')\n",
    "#df['Movie_title'] = df['Movie_title'].fillna('Stranger Things')\n",
    "#df['Movie_title'] = df['Movie_title'].fillna('The Witcher')\n",
    "#df['Movie_title'] = df['Movie_title'].fillna('Game of Thrones')\n",
    "#df['Movie_title'] = df['Movie_title'].fillna('Picky Blinders')\n",
    "#df['Movie_title'] = df['Movie_title'].fillna('John Wick chapter:4')\n",
    "#df['Movie_title'] = df['Movie_title'].fillna('The Wolf of Wall Street')\n",
    "#df['Movie_title'] = df['Movie_title'].fillna('One Piece')\n",
    "#df['Movie_title'] = df['Movie_title'].fillna('Special Ops:Lioness')\n",
    "#df['Movie_title'] = df['Movie_title'].fillna('The Lord of the Rings: The Return of the King')"
   ]
  },
  {
   "cell_type": "code",
   "execution_count": null,
   "metadata": {},
   "outputs": [],
   "source": [
    "#genre column \n",
    "#df.loc[df['Movie_title'] == 'The Lord of the Rings: The Return of the King', 'Genres'] = 'Action, Adventure, Drama'\n",
    "#df.loc[df['Movie_title'] == 'Special Ops:Lioness', 'Genres'] = 'Action, Drama, Thriller'\n",
    "#df.loc[df['Movie_title'] == 'One Piece', 'Genres'] = 'Action, Adventure, Comedy'\n",
    "#df.loc[df['Movie_title'] == 'The Wolf of Wall Street', 'Genres'] = 'Biography, Comedy, Crime'\n",
    "#df.loc[df['Movie_title'] == 'John Wick chapter:4', 'Genres'] = 'Action, Crime, Thriller'\n",
    "#df.loc[df['Movie_title'] == 'Picky Blinders', 'Genres'] = 'Crime, Drama'\n",
    "#df.loc[df['Movie_title'] == 'Game of Thrones', 'Genres'] = 'Action, Adventure, Drama'\n",
    "#df.loc[df['Movie_title'] == 'The Witcher', 'Genres'] = 'Action, Adventure, Drama'\n",
    "#df.loc[df['Movie_title'] == 'Stranger Things', 'Genres'] = 'Drama, Fantasy, Horror'\n",
    "#df.loc[df['Movie_title'] == 'The wheel of Time', 'Genres'] = 'Action, Adventure, Drama'\n",
    "#df.loc[df['Movie_title'] == 'Last of us Movie', 'Genres'] = 'Action, Adventure, Drama'\n",
    "#df.drop('user_name', axis=1,inplace = True)"
   ]
  },
  {
   "cell_type": "code",
   "execution_count": null,
   "metadata": {},
   "outputs": [],
   "source": [
    "#clean empty column \n",
    "#we will fill with spoiler because the heading is already giving hints \n",
    "#df['comments'] = df['comments'].fillna('Spoilers ')"
   ]
  },
  {
   "cell_type": "code",
   "execution_count": null,
   "metadata": {},
   "outputs": [],
   "source": [
    "# save Clean Dataframe \n",
    "#df.to_csv(\"imd_m_web_charm.csv\", index=False, sep=\";\")\n"
   ]
  },
  {
   "cell_type": "code",
   "execution_count": 3,
   "metadata": {
    "scrolled": true
   },
   "outputs": [
    {
     "name": "stdout",
     "output_type": "stream",
     "text": [
      "<class 'pandas.core.frame.DataFrame'>\n",
      "RangeIndex: 26836 entries, 0 to 26835\n",
      "Data columns (total 7 columns):\n",
      " #   Column                     Non-Null Count  Dtype \n",
      "---  ------                     --------------  ----- \n",
      " 0   rates_star                 26836 non-null  object\n",
      " 1   titles                     26836 non-null  object\n",
      " 2   date_comment               26836 non-null  object\n",
      " 3   who_found_comment_helpful  26836 non-null  object\n",
      " 4   comments                   26836 non-null  object\n",
      " 5   Movie_title                26836 non-null  object\n",
      " 6   Genres                     26836 non-null  object\n",
      "dtypes: object(7)\n",
      "memory usage: 1.4+ MB\n"
     ]
    }
   ],
   "source": [
    "df.info()"
   ]
  },
  {
   "cell_type": "markdown",
   "metadata": {},
   "source": [
    "#The comments are the core of your analysis. Perform sentiment analysis, topic modeling, and content summarization based on these reviews."
   ]
  },
  {
   "cell_type": "markdown",
   "metadata": {},
   "source": [
    "### Text Preprocessing "
   ]
  },
  {
   "cell_type": "code",
   "execution_count": 4,
   "metadata": {},
   "outputs": [
    {
     "name": "stdout",
     "output_type": "stream",
     "text": [
      "These are the most common words:  [('movie', 18950), ('one', 14194), ('show', 14194), ('like', 12683), ('film', 12393), ('story', 10930), ('season', 10429), ('series', 10408), ('good', 9712), ('great', 8757)]\n"
     ]
    },
    {
     "data": {
      "image/png": "[encoded data removed]",
      "text/plain": [
       "<Figure size 432x288 with 1 Axes>"
      ]
     },
     "metadata": {
      "needs_background": "light"
     },
     "output_type": "display_data"
    }
   ],
   "source": [
    "# Lowercase the comments\n",
    "df['comments'] = df['comments'].str.lower()\n",
    "\n",
    "# Remove HTML tags\n",
    "def remove_html_tags(text):\n",
    "    pattern = re.compile('<.*?>')\n",
    "    return pattern.sub(r'', text)\n",
    "\n",
    "df['comments'] = df['comments'].apply(remove_html_tags)\n",
    "\n",
    "# Remove punctuation\n",
    "translator = str.maketrans('', '', string.punctuation)\n",
    "df['comments'] = df['comments'].apply(lambda x: x.translate(translator))\n",
    "\n",
    "# Remove stopwords\n",
    "stop_words = set(stopwords.words(\"english\"))\n",
    "df['comments'] = df['comments'].apply(lambda x: ' '.join([word for word in word_tokenize(x) if word not in stop_words]))\n",
    "\n",
    "# Tokenize\n",
    "df['comments'] = df['comments'].apply(word_tokenize)\n",
    "\n",
    "# Compute frequency distribution\n",
    "fdist = FreqDist()\n",
    "for word_token in df['comments']:\n",
    "    for word in word_token:\n",
    "        fdist[word] += 1\n",
    "\n",
    "# Print the most common words\n",
    "print('These are the most common words: ', fdist.most_common(10))\n",
    "\n",
    "# Plot\n",
    "fdist.plot(20, title=\"Most frequent words\")\n",
    "plt.show()"
   ]
  },
  {
   "cell_type": "code",
   "execution_count": 23,
   "metadata": {},
   "outputs": [],
   "source": [
    "\n",
    "def split_count(text):\n",
    "\n",
    "    emoji_list = []\n",
    "    data = regex.findall(r'\\X', text)\n",
    "    for word in data:\n",
    "        if any(char in emoji.distinct_emoji_list['en'] for char in word):\n",
    "            emoji_list.append(word)\n",
    "    \n",
    "    return emoji_list\n",
    "#emojis preprocessing we will use a tokenizer to \n",
    "#translate the direct reaction of an emoji"
   ]
  },
  {
   "cell_type": "code",
   "execution_count": 29,
   "metadata": {},
   "outputs": [],
   "source": [
    "line_list = [\"🤔 🙈 me así, se 😌 ds 💕👭👙 hello 👩🏾‍🎓 emoji hello 👨‍👩‍👦‍👦 how are 😊 you today🙅🏽🙅🏽\"]\n",
    "new_line_list = []\n",
    "\n",
    "for word in line_list:\n",
    "  emojis = emoji.distinct_emoji_list(word)\n",
    "  new_line_list.extend([emoji.demojize(is_emoji) for is_emoji in emojis])"
   ]
  },
  {
   "cell_type": "code",
   "execution_count": 30,
   "metadata": {},
   "outputs": [
    {
     "name": "stdout",
     "output_type": "stream",
     "text": [
      "[':person_gesturing_NO_medium_skin_tone:', ':bikini:', ':two_hearts:', ':relieved_face:', ':woman_student_medium-dark_skin_tone:', ':family_man_woman_boy_boy:', ':smiling_face_with_smiling_eyes:', ':women_holding_hands:', ':see-no-evil_monkey:', ':thinking_face:']\n"
     ]
    }
   ],
   "source": [
    "print(new_line_list)"
   ]
  },
  {
   "cell_type": "code",
   "execution_count": 72,
   "metadata": {},
   "outputs": [],
   "source": [
    "#lemmatization\n",
    "#cutting words like running to be run for meaning not to be lost "
   ]
  },
  {
   "cell_type": "code",
   "execution_count": null,
   "metadata": {},
   "outputs": [],
   "source": [
    "#handle numericals to alphanumerics\n",
    "#those comments with numerals like '1' we want change them to be in 'words'"
   ]
  },
  {
   "cell_type": "code",
   "execution_count": null,
   "metadata": {},
   "outputs": [],
   "source": [
    "#handle white spaces \n",
    "#incase we have 2 or 3 blank spaces its fillied with one \n",
    "\n",
    "#spelling check \n",
    "#lets make sure the words used are in the dictionary\n",
    "\n",
    "#vectorize\n",
    "#changing our column text to numbers for training data prep\n",
    "\n",
    "#Text normalization \n"
   ]
  },
  {
   "cell_type": "code",
   "execution_count": null,
   "metadata": {},
   "outputs": [],
   "source": []
  },
  {
   "cell_type": "code",
   "execution_count": null,
   "metadata": {},
   "outputs": [],
   "source": []
  },
  {
   "cell_type": "code",
   "execution_count": null,
   "metadata": {},
   "outputs": [],
   "source": [
    "def emojidescription(text):\n",
    "  return emoji.replace_emoji(text, replace=lambda chars, data_dict: ' '.join(data_dict['en'].split('_')).strip(':'))"
   ]
  }
 ],
 "metadata": {
  "kernelspec": {
   "display_name": "Python 3",
   "language": "python",
   "name": "python3"
  },
  "language_info": {
   "codemirror_mode": {
    "name": "ipython",
    "version": 3
   },
   "file_extension": ".py",
   "mimetype": "text/x-python",
   "name": "python",
   "nbconvert_exporter": "python",
   "pygments_lexer": "ipython3",
   "version": "3.8.5"
  }
 },
 "nbformat": 4,
 "nbformat_minor": 4
}
